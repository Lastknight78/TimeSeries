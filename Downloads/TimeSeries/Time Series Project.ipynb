{
 "cells": [
  {
   "cell_type": "code",
   "execution_count": 113,
   "id": "43f37c86",
   "metadata": {},
   "outputs": [],
   "source": [
    "import pandas as pd\n",
    "import matplotlib.pyplot as plt\n",
    "import seaborn as sns\n",
    "import pytz\n",
    "from statsmodels.graphics.tsaplots import plot_pacf,plot_acf\n",
    "from sklearn.linear_model import LinearRegression\n",
    "import plotly.express as px\n",
    "from sklearn.metrics import mean_absolute_error"
   ]
  },
  {
   "cell_type": "code",
   "execution_count": 100,
   "id": "6dd83aa0",
   "metadata": {},
   "outputs": [],
   "source": [
    "def wrangle(filepath):\n",
    "    df = pd.read_csv(filepath)\n",
    "    split_df = df[\"sensor_id;sensor_type;location;lat;lon;timestamp;value_type;value\"].str.split(\";\",expand=True)\n",
    "    df[[\"sensor_id\",\"sensor_type\",\"location\",\"lat\",\"lon\",\"timestamp\",\"value_type\",\"value\"]] = split_df\n",
    "    df = df.drop(columns=[\"sensor_id;sensor_type;location;lat;lon;timestamp;value_type;value\"])\n",
    "    df[[\"lat\",\"lon\",\"value\"]] = df[[\"lat\",\"lon\",\"value\"]].astype(float)\n",
    "    new_df = df[[\"timestamp\",\"value_type\",\"value\"]][df[[\"timestamp\",\"value_type\",\"value\"]][\"value_type\"] == \"P2\"].drop(columns=[\"value_type\"])\n",
    "    new_df = new_df[new_df['value'] < 30]\n",
    "    new_df[\"timestamp\"] = pd.to_datetime(new_df[\"timestamp\"])\n",
    "    new_df = new_df.set_index(\"timestamp\")\n",
    "    new_df.index = new_df.index.tz_convert(\"Africa/Nairobi\")\n",
    "    new_dfs = new_df[\"value\"].resample(\"10T\").mean().fillna(method=\"ffill\").to_frame()\n",
    "    new_dfs[\"value_2\"] = new_dfs[\"value\"].shift(1)\n",
    "    new_dfs = new_dfs.dropna()\n",
    "    return new_dfs\n",
    "    "
   ]
  },
  {
   "cell_type": "code",
   "execution_count": 101,
   "id": "152bd0d4",
   "metadata": {},
   "outputs": [],
   "source": [
    "df = wrangle(\"November_2018_sensor_data_archive.csv\")"
   ]
  },
  {
   "cell_type": "code",
   "execution_count": 103,
   "id": "db28b0f7",
   "metadata": {},
   "outputs": [
    {
     "data": {
      "text/plain": [
       "943"
      ]
     },
     "execution_count": 103,
     "metadata": {},
     "output_type": "execute_result"
    }
   ],
   "source": [
    "len(df)"
   ]
  },
  {
   "cell_type": "code",
   "execution_count": 76,
   "id": "1265fdb9",
   "metadata": {},
   "outputs": [],
   "source": [
    "# fig,ax = plt.subplots(figsize=(10,6))\n",
    "# plot_pacf(df,ax=ax)\n",
    "# plt.xlabel(\"Lag values\");"
   ]
  },
  {
   "cell_type": "code",
   "execution_count": 104,
   "id": "44242d38",
   "metadata": {},
   "outputs": [
    {
     "data": {
      "image/png": "[encoded data removed]",
      "text/plain": [
       "<Figure size 720x432 with 1 Axes>"
      ]
     },
     "metadata": {
      "needs_background": "light"
     },
     "output_type": "display_data"
    }
   ],
   "source": [
    "fig,ax = plt.subplots(figsize=(10,6))\n",
    "ax.scatter(x=df[\"value_2\"],y=df[\"value\"])\n",
    "ax.plot([0,120],[0,120], linestyle=\"--\",color=\"orange\")\n",
    "plt.xlabel(\"Lagged P2 Readings\")\n",
    "plt.ylabel(\"P2 readings\")\n",
    "plt.title(\"P2 Autocorrelation\");"
   ]
  },
  {
   "cell_type": "code",
   "execution_count": 79,
   "id": "07caca94",
   "metadata": {},
   "outputs": [],
   "source": [
    "#Splitting into X,y"
   ]
  },
  {
   "cell_type": "code",
   "execution_count": 105,
   "id": "e974c500",
   "metadata": {},
   "outputs": [],
   "source": [
    "X = df.drop(columns=[\"value\"])\n",
    "y = df[\"value\"]"
   ]
  },
  {
   "cell_type": "code",
   "execution_count": 106,
   "id": "be362604",
   "metadata": {},
   "outputs": [],
   "source": [
    "cut_off = int(len(df) * 0.8)\n",
    "X_train, y_train = X.iloc[:cut_off] , y.iloc[:cut_off]\n",
    "X_test , y_test = X.iloc[cut_off:], y.iloc[cut_off:]"
   ]
  },
  {
   "cell_type": "code",
   "execution_count": 107,
   "id": "c93cd985",
   "metadata": {},
   "outputs": [
    {
     "data": {
      "text/plain": [
       "True"
      ]
     },
     "execution_count": 107,
     "metadata": {},
     "output_type": "execute_result"
    }
   ],
   "source": [
    "len(X) == len(X_train) + len(X_test)"
   ]
  },
  {
   "cell_type": "code",
   "execution_count": 108,
   "id": "d1b059cd",
   "metadata": {},
   "outputs": [
    {
     "data": {
      "text/plain": [
       "754"
      ]
     },
     "execution_count": 108,
     "metadata": {},
     "output_type": "execute_result"
    }
   ],
   "source": [
    "len(X_train)"
   ]
  },
  {
   "cell_type": "code",
   "execution_count": 111,
   "id": "dd8fff95",
   "metadata": {},
   "outputs": [],
   "source": [
    "model = LinearRegression()"
   ]
  },
  {
   "cell_type": "code",
   "execution_count": 112,
   "id": "007acddb",
   "metadata": {},
   "outputs": [],
   "source": [
    "#Baseline_model"
   ]
  },
  {
   "cell_type": "code",
   "execution_count": 124,
   "id": "57633e2f",
   "metadata": {},
   "outputs": [
    {
     "name": "stdout",
     "output_type": "stream",
     "text": [
      " mean value for X_train = 13.965446064551518\n",
      " baseline_mae = 4.5646838452285845\n"
     ]
    }
   ],
   "source": [
    "X_train_mean = X_train['value_2'].mean()\n",
    "baseline = len(X_train) * [X_train_mean]\n",
    "baseline_mae = mean_absolute_error(y_train,baseline)\n",
    "print(f\" mean value for X_train = {X_train_mean}\")\n",
    "print(f\" baseline_mae = {baseline_mae}\")\n"
   ]
  },
  {
   "cell_type": "code",
   "execution_count": 125,
   "id": "cc6d49ba",
   "metadata": {},
   "outputs": [
    {
     "data": {
      "text/plain": [
       "LinearRegression()"
      ]
     },
     "execution_count": 125,
     "metadata": {},
     "output_type": "execute_result"
    }
   ],
   "source": [
    "model.fit(X_train,y_train)"
   ]
  },
  {
   "cell_type": "code",
   "execution_count": 126,
   "id": "274cb6ec",
   "metadata": {},
   "outputs": [],
   "source": [
    "train_pred = model.predict(X_train)"
   ]
  },
  {
   "cell_type": "code",
   "execution_count": 127,
   "id": "e14f9fa2",
   "metadata": {},
   "outputs": [],
   "source": [
    "train_pred_mae = mean_absolute_error(train_pred,y_train)"
   ]
  },
  {
   "cell_type": "code",
   "execution_count": 128,
   "id": "79665223",
   "metadata": {},
   "outputs": [
    {
     "name": "stdout",
     "output_type": "stream",
     "text": [
      "train_pred_mae = 1.646375417356657\n"
     ]
    }
   ],
   "source": [
    "print(f\"train_pred_mae = {train_pred_mae}\")"
   ]
  },
  {
   "cell_type": "code",
   "execution_count": 130,
   "id": "a2d75dae",
   "metadata": {},
   "outputs": [],
   "source": [
    "test_pred = model.predict(X_test)"
   ]
  },
  {
   "cell_type": "code",
   "execution_count": 131,
   "id": "8b76a2d0",
   "metadata": {},
   "outputs": [],
   "source": [
    "test_pred_mae = mean_absolute_error(test_pred,y_test)"
   ]
  },
  {
   "cell_type": "code",
   "execution_count": 132,
   "id": "0d065270",
   "metadata": {},
   "outputs": [
    {
     "name": "stdout",
     "output_type": "stream",
     "text": [
      "test_pred_mae = 1.8189957563325967\n"
     ]
    }
   ],
   "source": [
    "print(f\"test_pred_mae = {test_pred_mae}\")"
   ]
  },
  {
   "cell_type": "code",
   "execution_count": 133,
   "id": "c35962e4",
   "metadata": {},
   "outputs": [],
   "source": [
    "results = pd.DataFrame(\n",
    "    {\"y_test\":y_test,\"test_pred\":test_pred}\n",
    ")"
   ]
  },
  {
   "cell_type": "code",
   "execution_count": 134,
   "id": "04e1651e",
   "metadata": {},
   "outputs": [
    {
     "data": {
      "text/html": [
       "<div>\n",
       "<style scoped>\n",
       "    .dataframe tbody tr th:only-of-type {\n",
       "        vertical-align: middle;\n",
       "    }\n",
       "\n",
       "    .dataframe tbody tr th {\n",
       "        vertical-align: top;\n",
       "    }\n",
       "\n",
       "    .dataframe thead th {\n",
       "        text-align: right;\n",
       "    }\n",
       "</style>\n",
       "<table border=\"1\" class=\"dataframe\">\n",
       "  <thead>\n",
       "    <tr style=\"text-align: right;\">\n",
       "      <th></th>\n",
       "      <th>y_test</th>\n",
       "      <th>test_pred</th>\n",
       "    </tr>\n",
       "    <tr>\n",
       "      <th>timestamp</th>\n",
       "      <th></th>\n",
       "      <th></th>\n",
       "    </tr>\n",
       "  </thead>\n",
       "  <tbody>\n",
       "    <tr>\n",
       "      <th>2018-11-29 19:30:00+03:00</th>\n",
       "      <td>7.525294</td>\n",
       "      <td>11.097767</td>\n",
       "    </tr>\n",
       "    <tr>\n",
       "      <th>2018-11-29 19:40:00+03:00</th>\n",
       "      <td>9.334375</td>\n",
       "      <td>8.272220</td>\n",
       "    </tr>\n",
       "    <tr>\n",
       "      <th>2018-11-29 19:50:00+03:00</th>\n",
       "      <td>9.590000</td>\n",
       "      <td>9.872256</td>\n",
       "    </tr>\n",
       "    <tr>\n",
       "      <th>2018-11-29 20:00:00+03:00</th>\n",
       "      <td>9.691579</td>\n",
       "      <td>10.098342</td>\n",
       "    </tr>\n",
       "    <tr>\n",
       "      <th>2018-11-29 20:10:00+03:00</th>\n",
       "      <td>9.638000</td>\n",
       "      <td>10.188184</td>\n",
       "    </tr>\n",
       "  </tbody>\n",
       "</table>\n",
       "</div>"
      ],
      "text/plain": [
       "                             y_test  test_pred\n",
       "timestamp                                     \n",
       "2018-11-29 19:30:00+03:00  7.525294  11.097767\n",
       "2018-11-29 19:40:00+03:00  9.334375   8.272220\n",
       "2018-11-29 19:50:00+03:00  9.590000   9.872256\n",
       "2018-11-29 20:00:00+03:00  9.691579  10.098342\n",
       "2018-11-29 20:10:00+03:00  9.638000  10.188184"
      ]
     },
     "execution_count": 134,
     "metadata": {},
     "output_type": "execute_result"
    }
   ],
   "source": [
    "results.head()"
   ]
  },
  {
   "cell_type": "code",
   "execution_count": 135,
   "id": "fbb4de5b",
   "metadata": {},
   "outputs": [],
   "source": []
  },
  {
   "cell_type": "code",
   "execution_count": 139,
   "id": "b2e01f0a",
   "metadata": {},
   "outputs": [
    {
     "data": {
      "application/vnd.plotly.v1+json": {
       "config": {
        "plotlyServerURL": "https://plot.ly"
       },
       "data": [
        {
         "hovertemplate": "variable=y_test<br>timestamp=%{x}<br>value=%{y}<extra></extra>",
         "legendgroup": "y_test",
         "line": {
          "color": "#636efa",
          "dash": "solid"
         },
         "marker": {
          "symbol": "circle"
         },
         "mode": "lines",
         "name": "y_test",
         "orientation": "v",
         "showlegend": true,
         "type": "scatter",
         "x": [
          "2018-11-29T19:30:00+03:00",
          "2018-11-29T19:40:00+03:00",
          "2018-11-29T19:50:00+03:00",
          "2018-11-29T20:00:00+03:00",
          "2018-11-29T20:10:00+03:00",
          "2018-11-29T20:20:00+03:00",
          "2018-11-29T20:30:00+03:00",
          "2018-11-29T20:40:00+03:00",
          "2018-11-29T20:50:00+03:00",
          "2018-11-29T21:00:00+03:00",
          "2018-11-29T21:10:00+03:00",
          "2018-11-29T21:20:00+03:00",
          "2018-11-29T21:30:00+03:00",
          "2018-11-29T21:40:00+03:00",
          "2018-11-29T21:50:00+03:00",
          "2018-11-29T22:00:00+03:00",
          "2018-11-29T22:10:00+03:00",
          "2018-11-29T22:20:00+03:00",
          "2018-11-29T22:30:00+03:00",
          "2018-11-29T22:40:00+03:00",
          "2018-11-29T22:50:00+03:00",
          "2018-11-29T23:00:00+03:00",
          "2018-11-29T23:10:00+03:00",
          "2018-11-29T23:20:00+03:00",
          "2018-11-29T23:30:00+03:00",
          "2018-11-29T23:40:00+03:00",
          "2018-11-29T23:50:00+03:00",
          "2018-11-30T00:00:00+03:00",
          "2018-11-30T00:10:00+03:00",
          "2018-11-30T00:20:00+03:00",
          "2018-11-30T00:30:00+03:00",
          "2018-11-30T00:40:00+03:00",
          "2018-11-30T00:50:00+03:00",
          "2018-11-30T01:00:00+03:00",
          "2018-11-30T01:10:00+03:00",
          "2018-11-30T01:20:00+03:00",
          "2018-11-30T01:30:00+03:00",
          "2018-11-30T01:40:00+03:00",
          "2018-11-30T01:50:00+03:00",
          "2018-11-30T02:00:00+03:00",
          "2018-11-30T02:10:00+03:00",
          "2018-11-30T02:20:00+03:00",
          "2018-11-30T02:30:00+03:00",
          "2018-11-30T02:40:00+03:00",
          "2018-11-30T02:50:00+03:00",
          "2018-11-30T03:00:00+03:00",
          "2018-11-30T03:10:00+03:00",
          "2018-11-30T03:20:00+03:00",
          "2018-11-30T03:30:00+03:00",
          "2018-11-30T03:40:00+03:00",
          "2018-11-30T03:50:00+03:00",
          "2018-11-30T04:00:00+03:00",
          "2018-11-30T04:10:00+03:00",
          "2018-11-30T04:20:00+03:00",
          "2018-11-30T04:30:00+03:00",
          "2018-11-30T04:40:00+03:00",
          "2018-11-30T04:50:00+03:00",
          "2018-11-30T05:00:00+03:00",
          "2018-11-30T05:10:00+03:00",
          "2018-11-30T05:20:00+03:00",
          "2018-11-30T05:30:00+03:00",
          "2018-11-30T05:40:00+03:00",
          "2018-11-30T05:50:00+03:00",
          "2018-11-30T06:00:00+03:00",
          "2018-11-30T06:10:00+03:00",
          "2018-11-30T06:20:00+03:00",
          "2018-11-30T06:30:00+03:00",
          "2018-11-30T06:40:00+03:00",
          "2018-11-30T06:50:00+03:00",
          "2018-11-30T07:00:00+03:00",
          "2018-11-30T07:10:00+03:00",
          "2018-11-30T07:20:00+03:00",
          "2018-11-30T07:30:00+03:00",
          "2018-11-30T07:40:00+03:00",
          "2018-11-30T07:50:00+03:00",
          "2018-11-30T08:00:00+03:00",
          "2018-11-30T08:10:00+03:00",
          "2018-11-30T08:20:00+03:00",
          "2018-11-30T08:30:00+03:00",
          "2018-11-30T08:40:00+03:00",
          "2018-11-30T08:50:00+03:00",
          "2018-11-30T09:00:00+03:00",
          "2018-11-30T09:10:00+03:00",
          "2018-11-30T09:20:00+03:00",
          "2018-11-30T09:30:00+03:00",
          "2018-11-30T09:40:00+03:00",
          "2018-11-30T09:50:00+03:00",
          "2018-11-30T10:00:00+03:00",
          "2018-11-30T10:10:00+03:00",
          "2018-11-30T10:20:00+03:00",
          "2018-11-30T10:30:00+03:00",
          "2018-11-30T10:40:00+03:00",
          "2018-11-30T10:50:00+03:00",
          "2018-11-30T11:00:00+03:00",
          "2018-11-30T11:10:00+03:00",
          "2018-11-30T11:20:00+03:00",
          "2018-11-30T11:30:00+03:00",
          "2018-11-30T11:40:00+03:00",
          "2018-11-30T11:50:00+03:00",
          "2018-11-30T12:00:00+03:00",
          "2018-11-30T12:10:00+03:00",
          "2018-11-30T12:20:00+03:00",
          "2018-11-30T12:30:00+03:00",
          "2018-11-30T12:40:00+03:00",
          "2018-11-30T12:50:00+03:00",
          "2018-11-30T13:00:00+03:00",
          "2018-11-30T13:10:00+03:00",
          "2018-11-30T13:20:00+03:00",
          "2018-11-30T13:30:00+03:00",
          "2018-11-30T13:40:00+03:00",
          "2018-11-30T13:50:00+03:00",
          "2018-11-30T14:00:00+03:00",
          "2018-11-30T14:10:00+03:00",
          "2018-11-30T14:20:00+03:00",
          "2018-11-30T14:30:00+03:00",
          "2018-11-30T14:40:00+03:00",
          "2018-11-30T14:50:00+03:00",
          "2018-11-30T15:00:00+03:00",
          "2018-11-30T15:10:00+03:00",
          "2018-11-30T15:20:00+03:00",
          "2018-11-30T15:30:00+03:00",
          "2018-11-30T15:40:00+03:00",
          "2018-11-30T15:50:00+03:00",
          "2018-11-30T16:00:00+03:00",
          "2018-11-30T16:10:00+03:00",
          "2018-11-30T16:20:00+03:00",
          "2018-11-30T16:30:00+03:00",
          "2018-11-30T16:40:00+03:00",
          "2018-11-30T16:50:00+03:00",
          "2018-11-30T17:00:00+03:00",
          "2018-11-30T17:10:00+03:00",
          "2018-11-30T17:20:00+03:00",
          "2018-11-30T17:30:00+03:00",
          "2018-11-30T17:40:00+03:00",
          "2018-11-30T17:50:00+03:00",
          "2018-11-30T18:00:00+03:00",
          "2018-11-30T18:10:00+03:00",
          "2018-11-30T18:20:00+03:00",
          "2018-11-30T18:30:00+03:00",
          "2018-11-30T18:40:00+03:00",
          "2018-11-30T18:50:00+03:00",
          "2018-11-30T19:00:00+03:00",
          "2018-11-30T19:10:00+03:00",
          "2018-11-30T19:20:00+03:00",
          "2018-11-30T19:30:00+03:00",
          "2018-11-30T19:40:00+03:00",
          "2018-11-30T19:50:00+03:00",
          "2018-11-30T20:00:00+03:00",
          "2018-11-30T20:10:00+03:00",
          "2018-11-30T20:20:00+03:00",
          "2018-11-30T20:30:00+03:00",
          "2018-11-30T20:40:00+03:00",
          "2018-11-30T20:50:00+03:00",
          "2018-11-30T21:00:00+03:00",
          "2018-11-30T21:10:00+03:00",
          "2018-11-30T21:20:00+03:00",
          "2018-11-30T21:30:00+03:00",
          "2018-11-30T21:40:00+03:00",
          "2018-11-30T21:50:00+03:00",
          "2018-11-30T22:00:00+03:00",
          "2018-11-30T22:10:00+03:00",
          "2018-11-30T22:20:00+03:00",
          "2018-11-30T22:30:00+03:00",
          "2018-11-30T22:40:00+03:00",
          "2018-11-30T22:50:00+03:00",
          "2018-11-30T23:00:00+03:00",
          "2018-11-30T23:10:00+03:00",
          "2018-11-30T23:20:00+03:00",
          "2018-11-30T23:30:00+03:00",
          "2018-11-30T23:40:00+03:00",
          "2018-11-30T23:50:00+03:00",
          "2018-12-01T00:00:00+03:00",
          "2018-12-01T00:10:00+03:00",
          "2018-12-01T00:20:00+03:00",
          "2018-12-01T00:30:00+03:00",
          "2018-12-01T00:40:00+03:00",
          "2018-12-01T00:50:00+03:00",
          "2018-12-01T01:00:00+03:00",
          "2018-12-01T01:10:00+03:00",
          "2018-12-01T01:20:00+03:00",
          "2018-12-01T01:30:00+03:00",
          "2018-12-01T01:40:00+03:00",
          "2018-12-01T01:50:00+03:00",
          "2018-12-01T02:00:00+03:00",
          "2018-12-01T02:10:00+03:00",
          "2018-12-01T02:20:00+03:00",
          "2018-12-01T02:30:00+03:00",
          "2018-12-01T02:40:00+03:00",
          "2018-12-01T02:50:00+03:00"
         ],
         "xaxis": "x",
         "y": [
          7.525294117647059,
          9.334375,
          9.59,
          9.69157894736842,
          9.638,
          8.048095238095238,
          8.916500000000001,
          10.7195,
          10.732,
          11.764500000000002,
          11.31611111111111,
          10.282222222222224,
          10.331111111111111,
          9.429411764705883,
          11.491052631578947,
          9.278125,
          9.44,
          12.143529411764705,
          16.076875,
          14.30625,
          13.16235294117647,
          10.908235294117647,
          13.7965,
          10.245625,
          12.523684210526316,
          11.561578947368421,
          12.206842105263158,
          12.216,
          12.192,
          11.636315789473684,
          11.417619047619048,
          10.6045,
          9.56421052631579,
          10.4405,
          9.014,
          7.7090000000000005,
          7.106999999999999,
          7.116,
          6.977499999999999,
          6.94,
          6.976666666666667,
          7.411,
          7.7655,
          7.6355,
          7.633,
          7.646190476190477,
          8.060500000000001,
          8.4245,
          14.085,
          14.850625,
          12.853,
          8.076190476190476,
          6.984,
          7.180499999999999,
          6.971500000000001,
          6.851999999999999,
          6.215238095238096,
          6.3655,
          6.4205,
          2,
          2,
          2,
          2,
          2,
          2,
          8.233,
          8.187000000000001,
          9.912857142857144,
          14.50470588235294,
          14.67235294117647,
          12.256470588235295,
          11.779375,
          18.936875,
          12.664117647058823,
          12.354444444444445,
          12.354444444444445,
          29.46666666666667,
          27.01,
          17.537142857142857,
          12.000588235294117,
          10.499375,
          11.516842105263157,
          9.846666666666668,
          10.0095,
          9.014,
          10.2005,
          9.179,
          8.378499999999999,
          9.544500000000001,
          9.867058823529412,
          10.698947368421052,
          9.4705,
          23.432499999999997,
          22.3525,
          22.78,
          24.0375,
          26.5175,
          25.7675,
          24.695,
          25.0325,
          8.751904761904761,
          8.451,
          7.563,
          7.792857142857143,
          7.919,
          7.8405000000000005,
          7.257142857142857,
          6.7355,
          6.5375,
          8.049375000000001,
          7.205,
          8.590555555555556,
          9.301428571428572,
          9.594666666666667,
          13.471538461538461,
          19.416,
          21.3125,
          22.12,
          23.2325,
          21.845,
          21.5775,
          21.88,
          21.77,
          7.109285714285714,
          8.68,
          8.531428571428572,
          7.918000000000001,
          7.2795000000000005,
          7.78952380952381,
          8.278,
          10.012,
          9.451428571428572,
          8.0705,
          8.8255,
          10.361428571428572,
          10.5865,
          10.174761904761905,
          10.7705,
          11.559999999999999,
          19.237000000000002,
          10.084375,
          9.025,
          9.025,
          28.983333333333334,
          29.299999999999997,
          29.1,
          27.883333333333336,
          27.945,
          27.025,
          21.134,
          10.584,
          7.502857142857143,
          8.872,
          9.1785,
          8.567499999999999,
          8.8515,
          11.128095238095238,
          10.906315789473684,
          9.999500000000001,
          9.7805,
          10.8435,
          10.289473684210526,
          10.2915,
          10.038,
          10.1295,
          9.84047619047619,
          9.751000000000001,
          9.889,
          8.449333333333334,
          11.044117647058824,
          11.555,
          10.077,
          10.126315789473685,
          12.01157894736842,
          10.395263157894737,
          10.031052631578948,
          10.4775,
          10.716,
          10.066190476190476,
          10.563333333333333,
          10.283125,
          11.99,
          9.963,
          9.613,
          8.809000000000001,
          8.539047619047619,
          8.579,
          8.5885,
          8.690999999999999
         ],
         "yaxis": "y"
        },
        {
         "hovertemplate": "variable=test_pred<br>timestamp=%{x}<br>value=%{y}<extra></extra>",
         "legendgroup": "test_pred",
         "line": {
          "color": "#EF553B",
          "dash": "solid"
         },
         "marker": {
          "symbol": "circle"
         },
         "mode": "lines",
         "name": "test_pred",
         "orientation": "v",
         "showlegend": true,
         "type": "scatter",
         "x": [
          "2018-11-29T19:30:00+03:00",
          "2018-11-29T19:40:00+03:00",
          "2018-11-29T19:50:00+03:00",
          "2018-11-29T20:00:00+03:00",
          "2018-11-29T20:10:00+03:00",
          "2018-11-29T20:20:00+03:00",
          "2018-11-29T20:30:00+03:00",
          "2018-11-29T20:40:00+03:00",
          "2018-11-29T20:50:00+03:00",
          "2018-11-29T21:00:00+03:00",
          "2018-11-29T21:10:00+03:00",
          "2018-11-29T21:20:00+03:00",
          "2018-11-29T21:30:00+03:00",
          "2018-11-29T21:40:00+03:00",
          "2018-11-29T21:50:00+03:00",
          "2018-11-29T22:00:00+03:00",
          "2018-11-29T22:10:00+03:00",
          "2018-11-29T22:20:00+03:00",
          "2018-11-29T22:30:00+03:00",
          "2018-11-29T22:40:00+03:00",
          "2018-11-29T22:50:00+03:00",
          "2018-11-29T23:00:00+03:00",
          "2018-11-29T23:10:00+03:00",
          "2018-11-29T23:20:00+03:00",
          "2018-11-29T23:30:00+03:00",
          "2018-11-29T23:40:00+03:00",
          "2018-11-29T23:50:00+03:00",
          "2018-11-30T00:00:00+03:00",
          "2018-11-30T00:10:00+03:00",
          "2018-11-30T00:20:00+03:00",
          "2018-11-30T00:30:00+03:00",
          "2018-11-30T00:40:00+03:00",
          "2018-11-30T00:50:00+03:00",
          "2018-11-30T01:00:00+03:00",
          "2018-11-30T01:10:00+03:00",
          "2018-11-30T01:20:00+03:00",
          "2018-11-30T01:30:00+03:00",
          "2018-11-30T01:40:00+03:00",
          "2018-11-30T01:50:00+03:00",
          "2018-11-30T02:00:00+03:00",
          "2018-11-30T02:10:00+03:00",
          "2018-11-30T02:20:00+03:00",
          "2018-11-30T02:30:00+03:00",
          "2018-11-30T02:40:00+03:00",
          "2018-11-30T02:50:00+03:00",
          "2018-11-30T03:00:00+03:00",
          "2018-11-30T03:10:00+03:00",
          "2018-11-30T03:20:00+03:00",
          "2018-11-30T03:30:00+03:00",
          "2018-11-30T03:40:00+03:00",
          "2018-11-30T03:50:00+03:00",
          "2018-11-30T04:00:00+03:00",
          "2018-11-30T04:10:00+03:00",
          "2018-11-30T04:20:00+03:00",
          "2018-11-30T04:30:00+03:00",
          "2018-11-30T04:40:00+03:00",
          "2018-11-30T04:50:00+03:00",
          "2018-11-30T05:00:00+03:00",
          "2018-11-30T05:10:00+03:00",
          "2018-11-30T05:20:00+03:00",
          "2018-11-30T05:30:00+03:00",
          "2018-11-30T05:40:00+03:00",
          "2018-11-30T05:50:00+03:00",
          "2018-11-30T06:00:00+03:00",
          "2018-11-30T06:10:00+03:00",
          "2018-11-30T06:20:00+03:00",
          "2018-11-30T06:30:00+03:00",
          "2018-11-30T06:40:00+03:00",
          "2018-11-30T06:50:00+03:00",
          "2018-11-30T07:00:00+03:00",
          "2018-11-30T07:10:00+03:00",
          "2018-11-30T07:20:00+03:00",
          "2018-11-30T07:30:00+03:00",
          "2018-11-30T07:40:00+03:00",
          "2018-11-30T07:50:00+03:00",
          "2018-11-30T08:00:00+03:00",
          "2018-11-30T08:10:00+03:00",
          "2018-11-30T08:20:00+03:00",
          "2018-11-30T08:30:00+03:00",
          "2018-11-30T08:40:00+03:00",
          "2018-11-30T08:50:00+03:00",
          "2018-11-30T09:00:00+03:00",
          "2018-11-30T09:10:00+03:00",
          "2018-11-30T09:20:00+03:00",
          "2018-11-30T09:30:00+03:00",
          "2018-11-30T09:40:00+03:00",
          "2018-11-30T09:50:00+03:00",
          "2018-11-30T10:00:00+03:00",
          "2018-11-30T10:10:00+03:00",
          "2018-11-30T10:20:00+03:00",
          "2018-11-30T10:30:00+03:00",
          "2018-11-30T10:40:00+03:00",
          "2018-11-30T10:50:00+03:00",
          "2018-11-30T11:00:00+03:00",
          "2018-11-30T11:10:00+03:00",
          "2018-11-30T11:20:00+03:00",
          "2018-11-30T11:30:00+03:00",
          "2018-11-30T11:40:00+03:00",
          "2018-11-30T11:50:00+03:00",
          "2018-11-30T12:00:00+03:00",
          "2018-11-30T12:10:00+03:00",
          "2018-11-30T12:20:00+03:00",
          "2018-11-30T12:30:00+03:00",
          "2018-11-30T12:40:00+03:00",
          "2018-11-30T12:50:00+03:00",
          "2018-11-30T13:00:00+03:00",
          "2018-11-30T13:10:00+03:00",
          "2018-11-30T13:20:00+03:00",
          "2018-11-30T13:30:00+03:00",
          "2018-11-30T13:40:00+03:00",
          "2018-11-30T13:50:00+03:00",
          "2018-11-30T14:00:00+03:00",
          "2018-11-30T14:10:00+03:00",
          "2018-11-30T14:20:00+03:00",
          "2018-11-30T14:30:00+03:00",
          "2018-11-30T14:40:00+03:00",
          "2018-11-30T14:50:00+03:00",
          "2018-11-30T15:00:00+03:00",
          "2018-11-30T15:10:00+03:00",
          "2018-11-30T15:20:00+03:00",
          "2018-11-30T15:30:00+03:00",
          "2018-11-30T15:40:00+03:00",
          "2018-11-30T15:50:00+03:00",
          "2018-11-30T16:00:00+03:00",
          "2018-11-30T16:10:00+03:00",
          "2018-11-30T16:20:00+03:00",
          "2018-11-30T16:30:00+03:00",
          "2018-11-30T16:40:00+03:00",
          "2018-11-30T16:50:00+03:00",
          "2018-11-30T17:00:00+03:00",
          "2018-11-30T17:10:00+03:00",
          "2018-11-30T17:20:00+03:00",
          "2018-11-30T17:30:00+03:00",
          "2018-11-30T17:40:00+03:00",
          "2018-11-30T17:50:00+03:00",
          "2018-11-30T18:00:00+03:00",
          "2018-11-30T18:10:00+03:00",
          "2018-11-30T18:20:00+03:00",
          "2018-11-30T18:30:00+03:00",
          "2018-11-30T18:40:00+03:00",
          "2018-11-30T18:50:00+03:00",
          "2018-11-30T19:00:00+03:00",
          "2018-11-30T19:10:00+03:00",
          "2018-11-30T19:20:00+03:00",
          "2018-11-30T19:30:00+03:00",
          "2018-11-30T19:40:00+03:00",
          "2018-11-30T19:50:00+03:00",
          "2018-11-30T20:00:00+03:00",
          "2018-11-30T20:10:00+03:00",
          "2018-11-30T20:20:00+03:00",
          "2018-11-30T20:30:00+03:00",
          "2018-11-30T20:40:00+03:00",
          "2018-11-30T20:50:00+03:00",
          "2018-11-30T21:00:00+03:00",
          "2018-11-30T21:10:00+03:00",
          "2018-11-30T21:20:00+03:00",
          "2018-11-30T21:30:00+03:00",
          "2018-11-30T21:40:00+03:00",
          "2018-11-30T21:50:00+03:00",
          "2018-11-30T22:00:00+03:00",
          "2018-11-30T22:10:00+03:00",
          "2018-11-30T22:20:00+03:00",
          "2018-11-30T22:30:00+03:00",
          "2018-11-30T22:40:00+03:00",
          "2018-11-30T22:50:00+03:00",
          "2018-11-30T23:00:00+03:00",
          "2018-11-30T23:10:00+03:00",
          "2018-11-30T23:20:00+03:00",
          "2018-11-30T23:30:00+03:00",
          "2018-11-30T23:40:00+03:00",
          "2018-11-30T23:50:00+03:00",
          "2018-12-01T00:00:00+03:00",
          "2018-12-01T00:10:00+03:00",
          "2018-12-01T00:20:00+03:00",
          "2018-12-01T00:30:00+03:00",
          "2018-12-01T00:40:00+03:00",
          "2018-12-01T00:50:00+03:00",
          "2018-12-01T01:00:00+03:00",
          "2018-12-01T01:10:00+03:00",
          "2018-12-01T01:20:00+03:00",
          "2018-12-01T01:30:00+03:00",
          "2018-12-01T01:40:00+03:00",
          "2018-12-01T01:50:00+03:00",
          "2018-12-01T02:00:00+03:00",
          "2018-12-01T02:10:00+03:00",
          "2018-12-01T02:20:00+03:00",
          "2018-12-01T02:30:00+03:00",
          "2018-12-01T02:40:00+03:00",
          "2018-12-01T02:50:00+03:00"
         ],
         "xaxis": "x",
         "y": [
          11.097767172038086,
          8.272219911088882,
          9.872255632750724,
          10.098342335307573,
          10.18818350600575,
          10.140795779699664,
          8.734609667236183,
          9.502667443681023,
          11.097324948659,
          11.108380533136108,
          12.021571810945186,
          11.624995711768587,
          10.710576035684278,
          10.75381565497252,
          9.956310591201674,
          11.77972217241545,
          9.82250550260374,
          9.965675321582282,
          12.356803145431027,
          15.835637899702485,
          14.269614358520213,
          13.25789831316515,
          11.26425126769335,
          13.81876762354377,
          10.678207741131859,
          12.69302982479797,
          11.842098943781025,
          12.412799851946657,
          12.420899522258305,
          12.399672800062259,
          11.908199701496784,
          11.714774077141417,
          10.995613571469612,
          10.075532918912698,
          10.850564303129962,
          9.588901002602459,
          8.434697983192443,
          7.902261034774947,
          7.9102210555984644,
          7.787725179592114,
          7.754558426160792,
          7.786988140626974,
          8.1711328492582,
          8.484669225028968,
          8.369691146467051,
          8.36748002957163,
          8.379146303476997,
          8.745581018688705,
          9.067519638662073,
          14.073930513275412,
          14.751085062498243,
          12.9842921072117,
          8.759458409489492,
          7.79347408352021,
          7.967267871500339,
          7.782418499043104,
          7.676727111441955,
          7.11354510905003,
          7.246443763592934,
          7.295088335292206,
          3.3853914408079273,
          3.3853914408079273,
          3.3853914408079273,
          3.3853914408079273,
          3.3853914408079273,
          3.3853914408079273,
          8.898148084472787,
          8.857463533597032,
          10.383892288659148,
          14.445138020306759,
          14.59341291799973,
          12.456693602824188,
          12.034727956472942,
          18.36515562806467,
          12.817235722477621,
          12.543346262333646,
          12.543346262333646,
          27.678195731838702,
          25.505404862604518,
          17.127167072010288,
          12.23037928529281,
          10.90263610601714,
          11.802531588810323,
          10.325350336570846,
          10.469367750359297,
          9.588901002602459,
          10.6382970811695,
          9.734834717700279,
          9.026835087786317,
          10.058100007810902,
          10.343386113600165,
          11.079147240287167,
          9.992650947706425,
          22.341296585256362,
          21.38609408643428,
          21.764195075551356,
          22.876386873948366,
          25.06981483420648,
          24.406479765580034,
          23.457910617444217,
          23.756411398326115,
          9.3570917189377,
          9.090957477753541,
          8.305568756499827,
          8.508865161341724,
          8.620431802407847,
          8.551002731891614,
          8.035054398037119,
          7.573689064115315,
          7.398568605997932,
          8.73574154850408,
          7.98893681707547,
          9.21438693644907,
          9.843116270807492,
          10.10246975351236,
          13.531356444321984,
          18.788916181072196,
          20.46626945793894,
          21.180460215160082,
          22.164407233622644,
          20.937237356663715,
          20.700647848853617,
          20.968192993199615,
          20.87090384980107,
          7.904282627365047,
          9.293495785374148,
          9.162092267017673,
          8.61954735564968,
          8.054828100559032,
          8.505917005481162,
          8.937948188590374,
          10.47157886725472,
          9.975783284532781,
          8.754425486270389,
          9.42218278868768,
          10.780629834466204,
          10.979693529822576,
          10.615533106274732,
          11.1424317333256,
          11.840702448899705,
          18.63060021136002,
          10.53559070137717,
          9.598629916942315,
          9.598629916942315,
          27.250713132057214,
          27.530787938810597,
          27.353898587176882,
          26.277821698071758,
          26.332362581492152,
          25.518671563977044,
          20.308395711605844,
          10.977482412927156,
          8.252375601472831,
          9.46330956294252,
          9.734392494321193,
          9.193995525080181,
          9.445178404400064,
          11.45870568239546,
          11.262553568033708,
          10.460523282777613,
          10.26682944273869,
          11.206996346671907,
          10.716989567731815,
          10.71878173616284,
          10.494574482967103,
          10.57550136133953,
          10.319875189972658,
          10.240738263372716,
          10.362791915999981,
          9.08948339982326,
          11.384431974244496,
          11.836280215108863,
          10.529067906535678,
          10.572685096662203,
          12.240099984956892,
          10.810554724780179,
          10.488429905489301,
          10.8832888331822,
          11.094229385005411,
          10.519507458244998,
          10.959203846591672,
          10.71137449456318,
          12.221014554912202,
          10.428240976104457,
          10.118684610745449,
          9.407589417177899,
          9.16883090898467,
          9.204166662799121,
          9.212568907001723
         ],
         "yaxis": "y"
        }
       ],
       "layout": {
        "legend": {
         "title": {
          "text": "variable"
         },
         "tracegroupgap": 0
        },
        "margin": {
         "t": 60
        },
        "template": {
         "data": {
          "bar": [
           {
            "error_x": {
             "color": "#2a3f5f"
            },
            "error_y": {
             "color": "#2a3f5f"
            },
            "marker": {
             "line": {
              "color": "#E5ECF6",
              "width": 0.5
             },
             "pattern": {
              "fillmode": "overlay",
              "size": 10,
              "solidity": 0.2
             }
            },
            "type": "bar"
           }
          ],
          "barpolar": [
           {
            "marker": {
             "line": {
              "color": "#E5ECF6",
              "width": 0.5
             },
             "pattern": {
              "fillmode": "overlay",
              "size": 10,
              "solidity": 0.2
             }
            },
            "type": "barpolar"
           }
          ],
          "carpet": [
           {
            "aaxis": {
             "endlinecolor": "#2a3f5f",
             "gridcolor": "white",
             "linecolor": "white",
             "minorgridcolor": "white",
             "startlinecolor": "#2a3f5f"
            },
            "baxis": {
             "endlinecolor": "#2a3f5f",
             "gridcolor": "white",
             "linecolor": "white",
             "minorgridcolor": "white",
             "startlinecolor": "#2a3f5f"
            },
            "type": "carpet"
           }
          ],
          "choropleth": [
           {
            "colorbar": {
             "outlinewidth": 0,
             "ticks": ""
            },
            "type": "choropleth"
           }
          ],
          "contour": [
           {
            "colorbar": {
             "outlinewidth": 0,
             "ticks": ""
            },
            "colorscale": [
             [
              0,
              "#0d0887"
             ],
             [
              0.1111111111111111,
              "#46039f"
             ],
             [
              0.2222222222222222,
              "#7201a8"
             ],
             [
              0.3333333333333333,
              "#9c179e"
             ],
             [
              0.4444444444444444,
              "#bd3786"
             ],
             [
              0.5555555555555556,
              "#d8576b"
             ],
             [
              0.6666666666666666,
              "#ed7953"
             ],
             [
              0.7777777777777778,
              "#fb9f3a"
             ],
             [
              0.8888888888888888,
              "#fdca26"
             ],
             [
              1,
              "#f0f921"
             ]
            ],
            "type": "contour"
           }
          ],
          "contourcarpet": [
           {
            "colorbar": {
             "outlinewidth": 0,
             "ticks": ""
            },
            "type": "contourcarpet"
           }
          ],
          "heatmap": [
           {
            "colorbar": {
             "outlinewidth": 0,
             "ticks": ""
            },
            "colorscale": [
             [
              0,
              "#0d0887"
             ],
             [
              0.1111111111111111,
              "#46039f"
             ],
             [
              0.2222222222222222,
              "#7201a8"
             ],
             [
              0.3333333333333333,
              "#9c179e"
             ],
             [
              0.4444444444444444,
              "#bd3786"
             ],
             [
              0.5555555555555556,
              "#d8576b"
             ],
             [
              0.6666666666666666,
              "#ed7953"
             ],
             [
              0.7777777777777778,
              "#fb9f3a"
             ],
             [
              0.8888888888888888,
              "#fdca26"
             ],
             [
              1,
              "#f0f921"
             ]
            ],
            "type": "heatmap"
           }
          ],
          "heatmapgl": [
           {
            "colorbar": {
             "outlinewidth": 0,
             "ticks": ""
            },
            "colorscale": [
             [
              0,
              "#0d0887"
             ],
             [
              0.1111111111111111,
              "#46039f"
             ],
             [
              0.2222222222222222,
              "#7201a8"
             ],
             [
              0.3333333333333333,
              "#9c179e"
             ],
             [
              0.4444444444444444,
              "#bd3786"
             ],
             [
              0.5555555555555556,
              "#d8576b"
             ],
             [
              0.6666666666666666,
              "#ed7953"
             ],
             [
              0.7777777777777778,
              "#fb9f3a"
             ],
             [
              0.8888888888888888,
              "#fdca26"
             ],
             [
              1,
              "#f0f921"
             ]
            ],
            "type": "heatmapgl"
           }
          ],
          "histogram": [
           {
            "marker": {
             "pattern": {
              "fillmode": "overlay",
              "size": 10,
              "solidity": 0.2
             }
            },
            "type": "histogram"
           }
          ],
          "histogram2d": [
           {
            "colorbar": {
             "outlinewidth": 0,
             "ticks": ""
            },
            "colorscale": [
             [
              0,
              "#0d0887"
             ],
             [
              0.1111111111111111,
              "#46039f"
             ],
             [
              0.2222222222222222,
              "#7201a8"
             ],
             [
              0.3333333333333333,
              "#9c179e"
             ],
             [
              0.4444444444444444,
              "#bd3786"
             ],
             [
              0.5555555555555556,
              "#d8576b"
             ],
             [
              0.6666666666666666,
              "#ed7953"
             ],
             [
              0.7777777777777778,
              "#fb9f3a"
             ],
             [
              0.8888888888888888,
              "#fdca26"
             ],
             [
              1,
              "#f0f921"
             ]
            ],
            "type": "histogram2d"
           }
          ],
          "histogram2dcontour": [
           {
            "colorbar": {
             "outlinewidth": 0,
             "ticks": ""
            },
            "colorscale": [
             [
              0,
              "#0d0887"
             ],
             [
              0.1111111111111111,
              "#46039f"
             ],
             [
              0.2222222222222222,
              "#7201a8"
             ],
             [
              0.3333333333333333,
              "#9c179e"
             ],
             [
              0.4444444444444444,
              "#bd3786"
             ],
             [
              0.5555555555555556,
              "#d8576b"
             ],
             [
              0.6666666666666666,
              "#ed7953"
             ],
             [
              0.7777777777777778,
              "#fb9f3a"
             ],
             [
              0.8888888888888888,
              "#fdca26"
             ],
             [
              1,
              "#f0f921"
             ]
            ],
            "type": "histogram2dcontour"
           }
          ],
          "mesh3d": [
           {
            "colorbar": {
             "outlinewidth": 0,
             "ticks": ""
            },
            "type": "mesh3d"
           }
          ],
          "parcoords": [
           {
            "line": {
             "colorbar": {
              "outlinewidth": 0,
              "ticks": ""
             }
            },
            "type": "parcoords"
           }
          ],
          "pie": [
           {
            "automargin": true,
            "type": "pie"
           }
          ],
          "scatter": [
           {
            "marker": {
             "colorbar": {
              "outlinewidth": 0,
              "ticks": ""
             }
            },
            "type": "scatter"
           }
          ],
          "scatter3d": [
           {
            "line": {
             "colorbar": {
              "outlinewidth": 0,
              "ticks": ""
             }
            },
            "marker": {
             "colorbar": {
              "outlinewidth": 0,
              "ticks": ""
             }
            },
            "type": "scatter3d"
           }
          ],
          "scattercarpet": [
           {
            "marker": {
             "colorbar": {
              "outlinewidth": 0,
              "ticks": ""
             }
            },
            "type": "scattercarpet"
           }
          ],
          "scattergeo": [
           {
            "marker": {
             "colorbar": {
              "outlinewidth": 0,
              "ticks": ""
             }
            },
            "type": "scattergeo"
           }
          ],
          "scattergl": [
           {
            "marker": {
             "colorbar": {
              "outlinewidth": 0,
              "ticks": ""
             }
            },
            "type": "scattergl"
           }
          ],
          "scattermapbox": [
           {
            "marker": {
             "colorbar": {
              "outlinewidth": 0,
              "ticks": ""
             }
            },
            "type": "scattermapbox"
           }
          ],
          "scatterpolar": [
           {
            "marker": {
             "colorbar": {
              "outlinewidth": 0,
              "ticks": ""
             }
            },
            "type": "scatterpolar"
           }
          ],
          "scatterpolargl": [
           {
            "marker": {
             "colorbar": {
              "outlinewidth": 0,
              "ticks": ""
             }
            },
            "type": "scatterpolargl"
           }
          ],
          "scatterternary": [
           {
            "marker": {
             "colorbar": {
              "outlinewidth": 0,
              "ticks": ""
             }
            },
            "type": "scatterternary"
           }
          ],
          "surface": [
           {
            "colorbar": {
             "outlinewidth": 0,
             "ticks": ""
            },
            "colorscale": [
             [
              0,
              "#0d0887"
             ],
             [
              0.1111111111111111,
              "#46039f"
             ],
             [
              0.2222222222222222,
              "#7201a8"
             ],
             [
              0.3333333333333333,
              "#9c179e"
             ],
             [
              0.4444444444444444,
              "#bd3786"
             ],
             [
              0.5555555555555556,
              "#d8576b"
             ],
             [
              0.6666666666666666,
              "#ed7953"
             ],
             [
              0.7777777777777778,
              "#fb9f3a"
             ],
             [
              0.8888888888888888,
              "#fdca26"
             ],
             [
              1,
              "#f0f921"
             ]
            ],
            "type": "surface"
           }
          ],
          "table": [
           {
            "cells": {
             "fill": {
              "color": "#EBF0F8"
             },
             "line": {
              "color": "white"
             }
            },
            "header": {
             "fill": {
              "color": "#C8D4E3"
             },
             "line": {
              "color": "white"
             }
            },
            "type": "table"
           }
          ]
         },
         "layout": {
          "annotationdefaults": {
           "arrowcolor": "#2a3f5f",
           "arrowhead": 0,
           "arrowwidth": 1
          },
          "autotypenumbers": "strict",
          "coloraxis": {
           "colorbar": {
            "outlinewidth": 0,
            "ticks": ""
           }
          },
          "colorscale": {
           "diverging": [
            [
             0,
             "#8e0152"
            ],
            [
             0.1,
             "#c51b7d"
            ],
            [
             0.2,
             "#de77ae"
            ],
            [
             0.3,
             "#f1b6da"
            ],
            [
             0.4,
             "#fde0ef"
            ],
            [
             0.5,
             "#f7f7f7"
            ],
            [
             0.6,
             "#e6f5d0"
            ],
            [
             0.7,
             "#b8e186"
            ],
            [
             0.8,
             "#7fbc41"
            ],
            [
             0.9,
             "#4d9221"
            ],
            [
             1,
             "#276419"
            ]
           ],
           "sequential": [
            [
             0,
             "#0d0887"
            ],
            [
             0.1111111111111111,
             "#46039f"
            ],
            [
             0.2222222222222222,
             "#7201a8"
            ],
            [
             0.3333333333333333,
             "#9c179e"
            ],
            [
             0.4444444444444444,
             "#bd3786"
            ],
            [
             0.5555555555555556,
             "#d8576b"
            ],
            [
             0.6666666666666666,
             "#ed7953"
            ],
            [
             0.7777777777777778,
             "#fb9f3a"
            ],
            [
             0.8888888888888888,
             "#fdca26"
            ],
            [
             1,
             "#f0f921"
            ]
           ],
           "sequentialminus": [
            [
             0,
             "#0d0887"
            ],
            [
             0.1111111111111111,
             "#46039f"
            ],
            [
             0.2222222222222222,
             "#7201a8"
            ],
            [
             0.3333333333333333,
             "#9c179e"
            ],
            [
             0.4444444444444444,
             "#bd3786"
            ],
            [
             0.5555555555555556,
             "#d8576b"
            ],
            [
             0.6666666666666666,
             "#ed7953"
            ],
            [
             0.7777777777777778,
             "#fb9f3a"
            ],
            [
             0.8888888888888888,
             "#fdca26"
            ],
            [
             1,
             "#f0f921"
            ]
           ]
          },
          "colorway": [
           "#636efa",
           "#EF553B",
           "#00cc96",
           "#ab63fa",
           "#FFA15A",
           "#19d3f3",
           "#FF6692",
           "#B6E880",
           "#FF97FF",
           "#FECB52"
          ],
          "font": {
           "color": "#2a3f5f"
          },
          "geo": {
           "bgcolor": "white",
           "lakecolor": "white",
           "landcolor": "#E5ECF6",
           "showlakes": true,
           "showland": true,
           "subunitcolor": "white"
          },
          "hoverlabel": {
           "align": "left"
          },
          "hovermode": "closest",
          "mapbox": {
           "style": "light"
          },
          "paper_bgcolor": "white",
          "plot_bgcolor": "#E5ECF6",
          "polar": {
           "angularaxis": {
            "gridcolor": "white",
            "linecolor": "white",
            "ticks": ""
           },
           "bgcolor": "#E5ECF6",
           "radialaxis": {
            "gridcolor": "white",
            "linecolor": "white",
            "ticks": ""
           }
          },
          "scene": {
           "xaxis": {
            "backgroundcolor": "#E5ECF6",
            "gridcolor": "white",
            "gridwidth": 2,
            "linecolor": "white",
            "showbackground": true,
            "ticks": "",
            "zerolinecolor": "white"
           },
           "yaxis": {
            "backgroundcolor": "#E5ECF6",
            "gridcolor": "white",
            "gridwidth": 2,
            "linecolor": "white",
            "showbackground": true,
            "ticks": "",
            "zerolinecolor": "white"
           },
           "zaxis": {
            "backgroundcolor": "#E5ECF6",
            "gridcolor": "white",
            "gridwidth": 2,
            "linecolor": "white",
            "showbackground": true,
            "ticks": "",
            "zerolinecolor": "white"
           }
          },
          "shapedefaults": {
           "line": {
            "color": "#2a3f5f"
           }
          },
          "ternary": {
           "aaxis": {
            "gridcolor": "white",
            "linecolor": "white",
            "ticks": ""
           },
           "baxis": {
            "gridcolor": "white",
            "linecolor": "white",
            "ticks": ""
           },
           "bgcolor": "#E5ECF6",
           "caxis": {
            "gridcolor": "white",
            "linecolor": "white",
            "ticks": ""
           }
          },
          "title": {
           "x": 0.05
          },
          "xaxis": {
           "automargin": true,
           "gridcolor": "white",
           "linecolor": "white",
           "ticks": "",
           "title": {
            "standoff": 15
           },
           "zerolinecolor": "white",
           "zerolinewidth": 2
          },
          "yaxis": {
           "automargin": true,
           "gridcolor": "white",
           "linecolor": "white",
           "ticks": "",
           "title": {
            "standoff": 15
           },
           "zerolinecolor": "white",
           "zerolinewidth": 2
          }
         }
        },
        "xaxis": {
         "anchor": "y",
         "domain": [
          0,
          1
         ],
         "title": {
          "text": "timestamp"
         }
        },
        "yaxis": {
         "anchor": "x",
         "domain": [
          0,
          1
         ],
         "title": {
          "text": "value"
         }
        }
       }
      },
      "text/html": [
       "<div>                            <div id=\"b46c6e62-e578-48f5-9920-a53c31aee165\" class=\"plotly-graph-div\" style=\"height:525px; width:100%;\"></div>            <script type=\"text/javascript\">                require([\"plotly\"], function(Plotly) {                    window.PLOTLYENV=window.PLOTLYENV || {};                                    if (document.getElementById(\"b46c6e62-e578-48f5-9920-a53c31aee165\")) {                    Plotly.newPlot(                        \"b46c6e62-e578-48f5-9920-a53c31aee165\",                        [{\"hovertemplate\":\"variable=y_test<br>timestamp=%{x}<br>value=%{y}<extra></extra>\",\"legendgroup\":\"y_test\",\"line\":{\"color\":\"#636efa\",\"dash\":\"solid\"},\"marker\":{\"symbol\":\"circle\"},\"mode\":\"lines\",\"name\":\"y_test\",\"orientation\":\"v\",\"showlegend\":true,\"x\":[\"2018-11-29T19:30:00+03:00\",\"2018-11-29T19:40:00+03:00\",\"2018-11-29T19:50:00+03:00\",\"2018-11-29T20:00:00+03:00\",\"2018-11-29T20:10:00+03:00\",\"2018-11-29T20:20:00+03:00\",\"2018-11-29T20:30:00+03:00\",\"2018-11-29T20:40:00+03:00\",\"2018-11-29T20:50:00+03:00\",\"2018-11-29T21:00:00+03:00\",\"2018-11-29T21:10:00+03:00\",\"2018-11-29T21:20:00+03:00\",\"2018-11-29T21:30:00+03:00\",\"2018-11-29T21:40:00+03:00\",\"2018-11-29T21:50:00+03:00\",\"2018-11-29T22:00:00+03:00\",\"2018-11-29T22:10:00+03:00\",\"2018-11-29T22:20:00+03:00\",\"2018-11-29T22:30:00+03:00\",\"2018-11-29T22:40:00+03:00\",\"2018-11-29T22:50:00+03:00\",\"2018-11-29T23:00:00+03:00\",\"2018-11-29T23:10:00+03:00\",\"2018-11-29T23:20:00+03:00\",\"2018-11-29T23:30:00+03:00\",\"2018-11-29T23:40:00+03:00\",\"2018-11-29T23:50:00+03:00\",\"2018-11-30T00:00:00+03:00\",\"2018-11-30T00:10:00+03:00\",\"2018-11-30T00:20:00+03:00\",\"2018-11-30T00:30:00+03:00\",\"2018-11-30T00:40:00+03:00\",\"2018-11-30T00:50:00+03:00\",\"2018-11-30T01:00:00+03:00\",\"2018-11-30T01:10:00+03:00\",\"2018-11-30T01:20:00+03:00\",\"2018-11-30T01:30:00+03:00\",\"2018-11-30T01:40:00+03:00\",\"2018-11-30T01:50:00+03:00\",\"2018-11-30T02:00:00+03:00\",\"2018-11-30T02:10:00+03:00\",\"2018-11-30T02:20:00+03:00\",\"2018-11-30T02:30:00+03:00\",\"2018-11-30T02:40:00+03:00\",\"2018-11-30T02:50:00+03:00\",\"2018-11-30T03:00:00+03:00\",\"2018-11-30T03:10:00+03:00\",\"2018-11-30T03:20:00+03:00\",\"2018-11-30T03:30:00+03:00\",\"2018-11-30T03:40:00+03:00\",\"2018-11-30T03:50:00+03:00\",\"2018-11-30T04:00:00+03:00\",\"2018-11-30T04:10:00+03:00\",\"2018-11-30T04:20:00+03:00\",\"2018-11-30T04:30:00+03:00\",\"2018-11-30T04:40:00+03:00\",\"2018-11-30T04:50:00+03:00\",\"2018-11-30T05:00:00+03:00\",\"2018-11-30T05:10:00+03:00\",\"2018-11-30T05:20:00+03:00\",\"2018-11-30T05:30:00+03:00\",\"2018-11-30T05:40:00+03:00\",\"2018-11-30T05:50:00+03:00\",\"2018-11-30T06:00:00+03:00\",\"2018-11-30T06:10:00+03:00\",\"2018-11-30T06:20:00+03:00\",\"2018-11-30T06:30:00+03:00\",\"2018-11-30T06:40:00+03:00\",\"2018-11-30T06:50:00+03:00\",\"2018-11-30T07:00:00+03:00\",\"2018-11-30T07:10:00+03:00\",\"2018-11-30T07:20:00+03:00\",\"2018-11-30T07:30:00+03:00\",\"2018-11-30T07:40:00+03:00\",\"2018-11-30T07:50:00+03:00\",\"2018-11-30T08:00:00+03:00\",\"2018-11-30T08:10:00+03:00\",\"2018-11-30T08:20:00+03:00\",\"2018-11-30T08:30:00+03:00\",\"2018-11-30T08:40:00+03:00\",\"2018-11-30T08:50:00+03:00\",\"2018-11-30T09:00:00+03:00\",\"2018-11-30T09:10:00+03:00\",\"2018-11-30T09:20:00+03:00\",\"2018-11-30T09:30:00+03:00\",\"2018-11-30T09:40:00+03:00\",\"2018-11-30T09:50:00+03:00\",\"2018-11-30T10:00:00+03:00\",\"2018-11-30T10:10:00+03:00\",\"2018-11-30T10:20:00+03:00\",\"2018-11-30T10:30:00+03:00\",\"2018-11-30T10:40:00+03:00\",\"2018-11-30T10:50:00+03:00\",\"2018-11-30T11:00:00+03:00\",\"2018-11-30T11:10:00+03:00\",\"2018-11-30T11:20:00+03:00\",\"2018-11-30T11:30:00+03:00\",\"2018-11-30T11:40:00+03:00\",\"2018-11-30T11:50:00+03:00\",\"2018-11-30T12:00:00+03:00\",\"2018-11-30T12:10:00+03:00\",\"2018-11-30T12:20:00+03:00\",\"2018-11-30T12:30:00+03:00\",\"2018-11-30T12:40:00+03:00\",\"2018-11-30T12:50:00+03:00\",\"2018-11-30T13:00:00+03:00\",\"2018-11-30T13:10:00+03:00\",\"2018-11-30T13:20:00+03:00\",\"2018-11-30T13:30:00+03:00\",\"2018-11-30T13:40:00+03:00\",\"2018-11-30T13:50:00+03:00\",\"2018-11-30T14:00:00+03:00\",\"2018-11-30T14:10:00+03:00\",\"2018-11-30T14:20:00+03:00\",\"2018-11-30T14:30:00+03:00\",\"2018-11-30T14:40:00+03:00\",\"2018-11-30T14:50:00+03:00\",\"2018-11-30T15:00:00+03:00\",\"2018-11-30T15:10:00+03:00\",\"2018-11-30T15:20:00+03:00\",\"2018-11-30T15:30:00+03:00\",\"2018-11-30T15:40:00+03:00\",\"2018-11-30T15:50:00+03:00\",\"2018-11-30T16:00:00+03:00\",\"2018-11-30T16:10:00+03:00\",\"2018-11-30T16:20:00+03:00\",\"2018-11-30T16:30:00+03:00\",\"2018-11-30T16:40:00+03:00\",\"2018-11-30T16:50:00+03:00\",\"2018-11-30T17:00:00+03:00\",\"2018-11-30T17:10:00+03:00\",\"2018-11-30T17:20:00+03:00\",\"2018-11-30T17:30:00+03:00\",\"2018-11-30T17:40:00+03:00\",\"2018-11-30T17:50:00+03:00\",\"2018-11-30T18:00:00+03:00\",\"2018-11-30T18:10:00+03:00\",\"2018-11-30T18:20:00+03:00\",\"2018-11-30T18:30:00+03:00\",\"2018-11-30T18:40:00+03:00\",\"2018-11-30T18:50:00+03:00\",\"2018-11-30T19:00:00+03:00\",\"2018-11-30T19:10:00+03:00\",\"2018-11-30T19:20:00+03:00\",\"2018-11-30T19:30:00+03:00\",\"2018-11-30T19:40:00+03:00\",\"2018-11-30T19:50:00+03:00\",\"2018-11-30T20:00:00+03:00\",\"2018-11-30T20:10:00+03:00\",\"2018-11-30T20:20:00+03:00\",\"2018-11-30T20:30:00+03:00\",\"2018-11-30T20:40:00+03:00\",\"2018-11-30T20:50:00+03:00\",\"2018-11-30T21:00:00+03:00\",\"2018-11-30T21:10:00+03:00\",\"2018-11-30T21:20:00+03:00\",\"2018-11-30T21:30:00+03:00\",\"2018-11-30T21:40:00+03:00\",\"2018-11-30T21:50:00+03:00\",\"2018-11-30T22:00:00+03:00\",\"2018-11-30T22:10:00+03:00\",\"2018-11-30T22:20:00+03:00\",\"2018-11-30T22:30:00+03:00\",\"2018-11-30T22:40:00+03:00\",\"2018-11-30T22:50:00+03:00\",\"2018-11-30T23:00:00+03:00\",\"2018-11-30T23:10:00+03:00\",\"2018-11-30T23:20:00+03:00\",\"2018-11-30T23:30:00+03:00\",\"2018-11-30T23:40:00+03:00\",\"2018-11-30T23:50:00+03:00\",\"2018-12-01T00:00:00+03:00\",\"2018-12-01T00:10:00+03:00\",\"2018-12-01T00:20:00+03:00\",\"2018-12-01T00:30:00+03:00\",\"2018-12-01T00:40:00+03:00\",\"2018-12-01T00:50:00+03:00\",\"2018-12-01T01:00:00+03:00\",\"2018-12-01T01:10:00+03:00\",\"2018-12-01T01:20:00+03:00\",\"2018-12-01T01:30:00+03:00\",\"2018-12-01T01:40:00+03:00\",\"2018-12-01T01:50:00+03:00\",\"2018-12-01T02:00:00+03:00\",\"2018-12-01T02:10:00+03:00\",\"2018-12-01T02:20:00+03:00\",\"2018-12-01T02:30:00+03:00\",\"2018-12-01T02:40:00+03:00\",\"2018-12-01T02:50:00+03:00\"],\"xaxis\":\"x\",\"y\":[7.525294117647059,9.334375,9.59,9.69157894736842,9.638,8.048095238095238,8.916500000000001,10.7195,10.732,11.764500000000002,11.31611111111111,10.282222222222224,10.331111111111111,9.429411764705883,11.491052631578947,9.278125,9.44,12.143529411764705,16.076875,14.30625,13.16235294117647,10.908235294117647,13.7965,10.245625,12.523684210526316,11.561578947368421,12.206842105263158,12.216,12.192,11.636315789473684,11.417619047619048,10.6045,9.56421052631579,10.4405,9.014,7.7090000000000005,7.106999999999999,7.116,6.977499999999999,6.94,6.976666666666667,7.411,7.7655,7.6355,7.633,7.646190476190477,8.060500000000001,8.4245,14.085,14.850625,12.853,8.076190476190476,6.984,7.180499999999999,6.971500000000001,6.851999999999999,6.215238095238096,6.3655,6.4205,2.0,2.0,2.0,2.0,2.0,2.0,8.233,8.187000000000001,9.912857142857144,14.50470588235294,14.67235294117647,12.256470588235295,11.779375,18.936875,12.664117647058823,12.354444444444445,12.354444444444445,29.46666666666667,27.01,17.537142857142857,12.000588235294117,10.499375,11.516842105263157,9.846666666666668,10.0095,9.014,10.2005,9.179,8.378499999999999,9.544500000000001,9.867058823529412,10.698947368421052,9.4705,23.432499999999997,22.3525,22.78,24.0375,26.5175,25.7675,24.695,25.0325,8.751904761904761,8.451,7.563,7.792857142857143,7.919,7.8405000000000005,7.257142857142857,6.7355,6.5375,8.049375000000001,7.205,8.590555555555556,9.301428571428572,9.594666666666667,13.471538461538461,19.416,21.3125,22.12,23.2325,21.845,21.5775,21.88,21.77,7.109285714285714,8.68,8.531428571428572,7.918000000000001,7.2795000000000005,7.78952380952381,8.278,10.012,9.451428571428572,8.0705,8.8255,10.361428571428572,10.5865,10.174761904761905,10.7705,11.559999999999999,19.237000000000002,10.084375,9.025,9.025,28.983333333333334,29.299999999999997,29.1,27.883333333333336,27.945,27.025,21.134,10.584,7.502857142857143,8.872,9.1785,8.567499999999999,8.8515,11.128095238095238,10.906315789473684,9.999500000000001,9.7805,10.8435,10.289473684210526,10.2915,10.038,10.1295,9.84047619047619,9.751000000000001,9.889,8.449333333333334,11.044117647058824,11.555,10.077,10.126315789473685,12.01157894736842,10.395263157894737,10.031052631578948,10.4775,10.716,10.066190476190476,10.563333333333333,10.283125,11.99,9.963,9.613,8.809000000000001,8.539047619047619,8.579,8.5885,8.690999999999999],\"yaxis\":\"y\",\"type\":\"scatter\"},{\"hovertemplate\":\"variable=test_pred<br>timestamp=%{x}<br>value=%{y}<extra></extra>\",\"legendgroup\":\"test_pred\",\"line\":{\"color\":\"#EF553B\",\"dash\":\"solid\"},\"marker\":{\"symbol\":\"circle\"},\"mode\":\"lines\",\"name\":\"test_pred\",\"orientation\":\"v\",\"showlegend\":true,\"x\":[\"2018-11-29T19:30:00+03:00\",\"2018-11-29T19:40:00+03:00\",\"2018-11-29T19:50:00+03:00\",\"2018-11-29T20:00:00+03:00\",\"2018-11-29T20:10:00+03:00\",\"2018-11-29T20:20:00+03:00\",\"2018-11-29T20:30:00+03:00\",\"2018-11-29T20:40:00+03:00\",\"2018-11-29T20:50:00+03:00\",\"2018-11-29T21:00:00+03:00\",\"2018-11-29T21:10:00+03:00\",\"2018-11-29T21:20:00+03:00\",\"2018-11-29T21:30:00+03:00\",\"2018-11-29T21:40:00+03:00\",\"2018-11-29T21:50:00+03:00\",\"2018-11-29T22:00:00+03:00\",\"2018-11-29T22:10:00+03:00\",\"2018-11-29T22:20:00+03:00\",\"2018-11-29T22:30:00+03:00\",\"2018-11-29T22:40:00+03:00\",\"2018-11-29T22:50:00+03:00\",\"2018-11-29T23:00:00+03:00\",\"2018-11-29T23:10:00+03:00\",\"2018-11-29T23:20:00+03:00\",\"2018-11-29T23:30:00+03:00\",\"2018-11-29T23:40:00+03:00\",\"2018-11-29T23:50:00+03:00\",\"2018-11-30T00:00:00+03:00\",\"2018-11-30T00:10:00+03:00\",\"2018-11-30T00:20:00+03:00\",\"2018-11-30T00:30:00+03:00\",\"2018-11-30T00:40:00+03:00\",\"2018-11-30T00:50:00+03:00\",\"2018-11-30T01:00:00+03:00\",\"2018-11-30T01:10:00+03:00\",\"2018-11-30T01:20:00+03:00\",\"2018-11-30T01:30:00+03:00\",\"2018-11-30T01:40:00+03:00\",\"2018-11-30T01:50:00+03:00\",\"2018-11-30T02:00:00+03:00\",\"2018-11-30T02:10:00+03:00\",\"2018-11-30T02:20:00+03:00\",\"2018-11-30T02:30:00+03:00\",\"2018-11-30T02:40:00+03:00\",\"2018-11-30T02:50:00+03:00\",\"2018-11-30T03:00:00+03:00\",\"2018-11-30T03:10:00+03:00\",\"2018-11-30T03:20:00+03:00\",\"2018-11-30T03:30:00+03:00\",\"2018-11-30T03:40:00+03:00\",\"2018-11-30T03:50:00+03:00\",\"2018-11-30T04:00:00+03:00\",\"2018-11-30T04:10:00+03:00\",\"2018-11-30T04:20:00+03:00\",\"2018-11-30T04:30:00+03:00\",\"2018-11-30T04:40:00+03:00\",\"2018-11-30T04:50:00+03:00\",\"2018-11-30T05:00:00+03:00\",\"2018-11-30T05:10:00+03:00\",\"2018-11-30T05:20:00+03:00\",\"2018-11-30T05:30:00+03:00\",\"2018-11-30T05:40:00+03:00\",\"2018-11-30T05:50:00+03:00\",\"2018-11-30T06:00:00+03:00\",\"2018-11-30T06:10:00+03:00\",\"2018-11-30T06:20:00+03:00\",\"2018-11-30T06:30:00+03:00\",\"2018-11-30T06:40:00+03:00\",\"2018-11-30T06:50:00+03:00\",\"2018-11-30T07:00:00+03:00\",\"2018-11-30T07:10:00+03:00\",\"2018-11-30T07:20:00+03:00\",\"2018-11-30T07:30:00+03:00\",\"2018-11-30T07:40:00+03:00\",\"2018-11-30T07:50:00+03:00\",\"2018-11-30T08:00:00+03:00\",\"2018-11-30T08:10:00+03:00\",\"2018-11-30T08:20:00+03:00\",\"2018-11-30T08:30:00+03:00\",\"2018-11-30T08:40:00+03:00\",\"2018-11-30T08:50:00+03:00\",\"2018-11-30T09:00:00+03:00\",\"2018-11-30T09:10:00+03:00\",\"2018-11-30T09:20:00+03:00\",\"2018-11-30T09:30:00+03:00\",\"2018-11-30T09:40:00+03:00\",\"2018-11-30T09:50:00+03:00\",\"2018-11-30T10:00:00+03:00\",\"2018-11-30T10:10:00+03:00\",\"2018-11-30T10:20:00+03:00\",\"2018-11-30T10:30:00+03:00\",\"2018-11-30T10:40:00+03:00\",\"2018-11-30T10:50:00+03:00\",\"2018-11-30T11:00:00+03:00\",\"2018-11-30T11:10:00+03:00\",\"2018-11-30T11:20:00+03:00\",\"2018-11-30T11:30:00+03:00\",\"2018-11-30T11:40:00+03:00\",\"2018-11-30T11:50:00+03:00\",\"2018-11-30T12:00:00+03:00\",\"2018-11-30T12:10:00+03:00\",\"2018-11-30T12:20:00+03:00\",\"2018-11-30T12:30:00+03:00\",\"2018-11-30T12:40:00+03:00\",\"2018-11-30T12:50:00+03:00\",\"2018-11-30T13:00:00+03:00\",\"2018-11-30T13:10:00+03:00\",\"2018-11-30T13:20:00+03:00\",\"2018-11-30T13:30:00+03:00\",\"2018-11-30T13:40:00+03:00\",\"2018-11-30T13:50:00+03:00\",\"2018-11-30T14:00:00+03:00\",\"2018-11-30T14:10:00+03:00\",\"2018-11-30T14:20:00+03:00\",\"2018-11-30T14:30:00+03:00\",\"2018-11-30T14:40:00+03:00\",\"2018-11-30T14:50:00+03:00\",\"2018-11-30T15:00:00+03:00\",\"2018-11-30T15:10:00+03:00\",\"2018-11-30T15:20:00+03:00\",\"2018-11-30T15:30:00+03:00\",\"2018-11-30T15:40:00+03:00\",\"2018-11-30T15:50:00+03:00\",\"2018-11-30T16:00:00+03:00\",\"2018-11-30T16:10:00+03:00\",\"2018-11-30T16:20:00+03:00\",\"2018-11-30T16:30:00+03:00\",\"2018-11-30T16:40:00+03:00\",\"2018-11-30T16:50:00+03:00\",\"2018-11-30T17:00:00+03:00\",\"2018-11-30T17:10:00+03:00\",\"2018-11-30T17:20:00+03:00\",\"2018-11-30T17:30:00+03:00\",\"2018-11-30T17:40:00+03:00\",\"2018-11-30T17:50:00+03:00\",\"2018-11-30T18:00:00+03:00\",\"2018-11-30T18:10:00+03:00\",\"2018-11-30T18:20:00+03:00\",\"2018-11-30T18:30:00+03:00\",\"2018-11-30T18:40:00+03:00\",\"2018-11-30T18:50:00+03:00\",\"2018-11-30T19:00:00+03:00\",\"2018-11-30T19:10:00+03:00\",\"2018-11-30T19:20:00+03:00\",\"2018-11-30T19:30:00+03:00\",\"2018-11-30T19:40:00+03:00\",\"2018-11-30T19:50:00+03:00\",\"2018-11-30T20:00:00+03:00\",\"2018-11-30T20:10:00+03:00\",\"2018-11-30T20:20:00+03:00\",\"2018-11-30T20:30:00+03:00\",\"2018-11-30T20:40:00+03:00\",\"2018-11-30T20:50:00+03:00\",\"2018-11-30T21:00:00+03:00\",\"2018-11-30T21:10:00+03:00\",\"2018-11-30T21:20:00+03:00\",\"2018-11-30T21:30:00+03:00\",\"2018-11-30T21:40:00+03:00\",\"2018-11-30T21:50:00+03:00\",\"2018-11-30T22:00:00+03:00\",\"2018-11-30T22:10:00+03:00\",\"2018-11-30T22:20:00+03:00\",\"2018-11-30T22:30:00+03:00\",\"2018-11-30T22:40:00+03:00\",\"2018-11-30T22:50:00+03:00\",\"2018-11-30T23:00:00+03:00\",\"2018-11-30T23:10:00+03:00\",\"2018-11-30T23:20:00+03:00\",\"2018-11-30T23:30:00+03:00\",\"2018-11-30T23:40:00+03:00\",\"2018-11-30T23:50:00+03:00\",\"2018-12-01T00:00:00+03:00\",\"2018-12-01T00:10:00+03:00\",\"2018-12-01T00:20:00+03:00\",\"2018-12-01T00:30:00+03:00\",\"2018-12-01T00:40:00+03:00\",\"2018-12-01T00:50:00+03:00\",\"2018-12-01T01:00:00+03:00\",\"2018-12-01T01:10:00+03:00\",\"2018-12-01T01:20:00+03:00\",\"2018-12-01T01:30:00+03:00\",\"2018-12-01T01:40:00+03:00\",\"2018-12-01T01:50:00+03:00\",\"2018-12-01T02:00:00+03:00\",\"2018-12-01T02:10:00+03:00\",\"2018-12-01T02:20:00+03:00\",\"2018-12-01T02:30:00+03:00\",\"2018-12-01T02:40:00+03:00\",\"2018-12-01T02:50:00+03:00\"],\"xaxis\":\"x\",\"y\":[11.097767172038086,8.272219911088882,9.872255632750724,10.098342335307573,10.18818350600575,10.140795779699664,8.734609667236183,9.502667443681023,11.097324948659,11.108380533136108,12.021571810945186,11.624995711768587,10.710576035684278,10.75381565497252,9.956310591201674,11.77972217241545,9.82250550260374,9.965675321582282,12.356803145431027,15.835637899702485,14.269614358520213,13.25789831316515,11.26425126769335,13.81876762354377,10.678207741131859,12.69302982479797,11.842098943781025,12.412799851946657,12.420899522258305,12.399672800062259,11.908199701496784,11.714774077141417,10.995613571469612,10.075532918912698,10.850564303129962,9.588901002602459,8.434697983192443,7.902261034774947,7.9102210555984644,7.787725179592114,7.754558426160792,7.786988140626974,8.1711328492582,8.484669225028968,8.369691146467051,8.36748002957163,8.379146303476997,8.745581018688705,9.067519638662073,14.073930513275412,14.751085062498243,12.9842921072117,8.759458409489492,7.79347408352021,7.967267871500339,7.782418499043104,7.676727111441955,7.11354510905003,7.246443763592934,7.295088335292206,3.3853914408079273,3.3853914408079273,3.3853914408079273,3.3853914408079273,3.3853914408079273,3.3853914408079273,8.898148084472787,8.857463533597032,10.383892288659148,14.445138020306759,14.59341291799973,12.456693602824188,12.034727956472942,18.36515562806467,12.817235722477621,12.543346262333646,12.543346262333646,27.678195731838702,25.505404862604518,17.127167072010288,12.23037928529281,10.90263610601714,11.802531588810323,10.325350336570846,10.469367750359297,9.588901002602459,10.6382970811695,9.734834717700279,9.026835087786317,10.058100007810902,10.343386113600165,11.079147240287167,9.992650947706425,22.341296585256362,21.38609408643428,21.764195075551356,22.876386873948366,25.06981483420648,24.406479765580034,23.457910617444217,23.756411398326115,9.3570917189377,9.090957477753541,8.305568756499827,8.508865161341724,8.620431802407847,8.551002731891614,8.035054398037119,7.573689064115315,7.398568605997932,8.73574154850408,7.98893681707547,9.21438693644907,9.843116270807492,10.10246975351236,13.531356444321984,18.788916181072196,20.46626945793894,21.180460215160082,22.164407233622644,20.937237356663715,20.700647848853617,20.968192993199615,20.87090384980107,7.904282627365047,9.293495785374148,9.162092267017673,8.61954735564968,8.054828100559032,8.505917005481162,8.937948188590374,10.47157886725472,9.975783284532781,8.754425486270389,9.42218278868768,10.780629834466204,10.979693529822576,10.615533106274732,11.1424317333256,11.840702448899705,18.63060021136002,10.53559070137717,9.598629916942315,9.598629916942315,27.250713132057214,27.530787938810597,27.353898587176882,26.277821698071758,26.332362581492152,25.518671563977044,20.308395711605844,10.977482412927156,8.252375601472831,9.46330956294252,9.734392494321193,9.193995525080181,9.445178404400064,11.45870568239546,11.262553568033708,10.460523282777613,10.26682944273869,11.206996346671907,10.716989567731815,10.71878173616284,10.494574482967103,10.57550136133953,10.319875189972658,10.240738263372716,10.362791915999981,9.08948339982326,11.384431974244496,11.836280215108863,10.529067906535678,10.572685096662203,12.240099984956892,10.810554724780179,10.488429905489301,10.8832888331822,11.094229385005411,10.519507458244998,10.959203846591672,10.71137449456318,12.221014554912202,10.428240976104457,10.118684610745449,9.407589417177899,9.16883090898467,9.204166662799121,9.212568907001723],\"yaxis\":\"y\",\"type\":\"scatter\"}],                        {\"template\":{\"data\":{\"bar\":[{\"error_x\":{\"color\":\"#2a3f5f\"},\"error_y\":{\"color\":\"#2a3f5f\"},\"marker\":{\"line\":{\"color\":\"#E5ECF6\",\"width\":0.5},\"pattern\":{\"fillmode\":\"overlay\",\"size\":10,\"solidity\":0.2}},\"type\":\"bar\"}],\"barpolar\":[{\"marker\":{\"line\":{\"color\":\"#E5ECF6\",\"width\":0.5},\"pattern\":{\"fillmode\":\"overlay\",\"size\":10,\"solidity\":0.2}},\"type\":\"barpolar\"}],\"carpet\":[{\"aaxis\":{\"endlinecolor\":\"#2a3f5f\",\"gridcolor\":\"white\",\"linecolor\":\"white\",\"minorgridcolor\":\"white\",\"startlinecolor\":\"#2a3f5f\"},\"baxis\":{\"endlinecolor\":\"#2a3f5f\",\"gridcolor\":\"white\",\"linecolor\":\"white\",\"minorgridcolor\":\"white\",\"startlinecolor\":\"#2a3f5f\"},\"type\":\"carpet\"}],\"choropleth\":[{\"colorbar\":{\"outlinewidth\":0,\"ticks\":\"\"},\"type\":\"choropleth\"}],\"contour\":[{\"colorbar\":{\"outlinewidth\":0,\"ticks\":\"\"},\"colorscale\":[[0.0,\"#0d0887\"],[0.1111111111111111,\"#46039f\"],[0.2222222222222222,\"#7201a8\"],[0.3333333333333333,\"#9c179e\"],[0.4444444444444444,\"#bd3786\"],[0.5555555555555556,\"#d8576b\"],[0.6666666666666666,\"#ed7953\"],[0.7777777777777778,\"#fb9f3a\"],[0.8888888888888888,\"#fdca26\"],[1.0,\"#f0f921\"]],\"type\":\"contour\"}],\"contourcarpet\":[{\"colorbar\":{\"outlinewidth\":0,\"ticks\":\"\"},\"type\":\"contourcarpet\"}],\"heatmap\":[{\"colorbar\":{\"outlinewidth\":0,\"ticks\":\"\"},\"colorscale\":[[0.0,\"#0d0887\"],[0.1111111111111111,\"#46039f\"],[0.2222222222222222,\"#7201a8\"],[0.3333333333333333,\"#9c179e\"],[0.4444444444444444,\"#bd3786\"],[0.5555555555555556,\"#d8576b\"],[0.6666666666666666,\"#ed7953\"],[0.7777777777777778,\"#fb9f3a\"],[0.8888888888888888,\"#fdca26\"],[1.0,\"#f0f921\"]],\"type\":\"heatmap\"}],\"heatmapgl\":[{\"colorbar\":{\"outlinewidth\":0,\"ticks\":\"\"},\"colorscale\":[[0.0,\"#0d0887\"],[0.1111111111111111,\"#46039f\"],[0.2222222222222222,\"#7201a8\"],[0.3333333333333333,\"#9c179e\"],[0.4444444444444444,\"#bd3786\"],[0.5555555555555556,\"#d8576b\"],[0.6666666666666666,\"#ed7953\"],[0.7777777777777778,\"#fb9f3a\"],[0.8888888888888888,\"#fdca26\"],[1.0,\"#f0f921\"]],\"type\":\"heatmapgl\"}],\"histogram\":[{\"marker\":{\"pattern\":{\"fillmode\":\"overlay\",\"size\":10,\"solidity\":0.2}},\"type\":\"histogram\"}],\"histogram2d\":[{\"colorbar\":{\"outlinewidth\":0,\"ticks\":\"\"},\"colorscale\":[[0.0,\"#0d0887\"],[0.1111111111111111,\"#46039f\"],[0.2222222222222222,\"#7201a8\"],[0.3333333333333333,\"#9c179e\"],[0.4444444444444444,\"#bd3786\"],[0.5555555555555556,\"#d8576b\"],[0.6666666666666666,\"#ed7953\"],[0.7777777777777778,\"#fb9f3a\"],[0.8888888888888888,\"#fdca26\"],[1.0,\"#f0f921\"]],\"type\":\"histogram2d\"}],\"histogram2dcontour\":[{\"colorbar\":{\"outlinewidth\":0,\"ticks\":\"\"},\"colorscale\":[[0.0,\"#0d0887\"],[0.1111111111111111,\"#46039f\"],[0.2222222222222222,\"#7201a8\"],[0.3333333333333333,\"#9c179e\"],[0.4444444444444444,\"#bd3786\"],[0.5555555555555556,\"#d8576b\"],[0.6666666666666666,\"#ed7953\"],[0.7777777777777778,\"#fb9f3a\"],[0.8888888888888888,\"#fdca26\"],[1.0,\"#f0f921\"]],\"type\":\"histogram2dcontour\"}],\"mesh3d\":[{\"colorbar\":{\"outlinewidth\":0,\"ticks\":\"\"},\"type\":\"mesh3d\"}],\"parcoords\":[{\"line\":{\"colorbar\":{\"outlinewidth\":0,\"ticks\":\"\"}},\"type\":\"parcoords\"}],\"pie\":[{\"automargin\":true,\"type\":\"pie\"}],\"scatter\":[{\"marker\":{\"colorbar\":{\"outlinewidth\":0,\"ticks\":\"\"}},\"type\":\"scatter\"}],\"scatter3d\":[{\"line\":{\"colorbar\":{\"outlinewidth\":0,\"ticks\":\"\"}},\"marker\":{\"colorbar\":{\"outlinewidth\":0,\"ticks\":\"\"}},\"type\":\"scatter3d\"}],\"scattercarpet\":[{\"marker\":{\"colorbar\":{\"outlinewidth\":0,\"ticks\":\"\"}},\"type\":\"scattercarpet\"}],\"scattergeo\":[{\"marker\":{\"colorbar\":{\"outlinewidth\":0,\"ticks\":\"\"}},\"type\":\"scattergeo\"}],\"scattergl\":[{\"marker\":{\"colorbar\":{\"outlinewidth\":0,\"ticks\":\"\"}},\"type\":\"scattergl\"}],\"scattermapbox\":[{\"marker\":{\"colorbar\":{\"outlinewidth\":0,\"ticks\":\"\"}},\"type\":\"scattermapbox\"}],\"scatterpolar\":[{\"marker\":{\"colorbar\":{\"outlinewidth\":0,\"ticks\":\"\"}},\"type\":\"scatterpolar\"}],\"scatterpolargl\":[{\"marker\":{\"colorbar\":{\"outlinewidth\":0,\"ticks\":\"\"}},\"type\":\"scatterpolargl\"}],\"scatterternary\":[{\"marker\":{\"colorbar\":{\"outlinewidth\":0,\"ticks\":\"\"}},\"type\":\"scatterternary\"}],\"surface\":[{\"colorbar\":{\"outlinewidth\":0,\"ticks\":\"\"},\"colorscale\":[[0.0,\"#0d0887\"],[0.1111111111111111,\"#46039f\"],[0.2222222222222222,\"#7201a8\"],[0.3333333333333333,\"#9c179e\"],[0.4444444444444444,\"#bd3786\"],[0.5555555555555556,\"#d8576b\"],[0.6666666666666666,\"#ed7953\"],[0.7777777777777778,\"#fb9f3a\"],[0.8888888888888888,\"#fdca26\"],[1.0,\"#f0f921\"]],\"type\":\"surface\"}],\"table\":[{\"cells\":{\"fill\":{\"color\":\"#EBF0F8\"},\"line\":{\"color\":\"white\"}},\"header\":{\"fill\":{\"color\":\"#C8D4E3\"},\"line\":{\"color\":\"white\"}},\"type\":\"table\"}]},\"layout\":{\"annotationdefaults\":{\"arrowcolor\":\"#2a3f5f\",\"arrowhead\":0,\"arrowwidth\":1},\"autotypenumbers\":\"strict\",\"coloraxis\":{\"colorbar\":{\"outlinewidth\":0,\"ticks\":\"\"}},\"colorscale\":{\"diverging\":[[0,\"#8e0152\"],[0.1,\"#c51b7d\"],[0.2,\"#de77ae\"],[0.3,\"#f1b6da\"],[0.4,\"#fde0ef\"],[0.5,\"#f7f7f7\"],[0.6,\"#e6f5d0\"],[0.7,\"#b8e186\"],[0.8,\"#7fbc41\"],[0.9,\"#4d9221\"],[1,\"#276419\"]],\"sequential\":[[0.0,\"#0d0887\"],[0.1111111111111111,\"#46039f\"],[0.2222222222222222,\"#7201a8\"],[0.3333333333333333,\"#9c179e\"],[0.4444444444444444,\"#bd3786\"],[0.5555555555555556,\"#d8576b\"],[0.6666666666666666,\"#ed7953\"],[0.7777777777777778,\"#fb9f3a\"],[0.8888888888888888,\"#fdca26\"],[1.0,\"#f0f921\"]],\"sequentialminus\":[[0.0,\"#0d0887\"],[0.1111111111111111,\"#46039f\"],[0.2222222222222222,\"#7201a8\"],[0.3333333333333333,\"#9c179e\"],[0.4444444444444444,\"#bd3786\"],[0.5555555555555556,\"#d8576b\"],[0.6666666666666666,\"#ed7953\"],[0.7777777777777778,\"#fb9f3a\"],[0.8888888888888888,\"#fdca26\"],[1.0,\"#f0f921\"]]},\"colorway\":[\"#636efa\",\"#EF553B\",\"#00cc96\",\"#ab63fa\",\"#FFA15A\",\"#19d3f3\",\"#FF6692\",\"#B6E880\",\"#FF97FF\",\"#FECB52\"],\"font\":{\"color\":\"#2a3f5f\"},\"geo\":{\"bgcolor\":\"white\",\"lakecolor\":\"white\",\"landcolor\":\"#E5ECF6\",\"showlakes\":true,\"showland\":true,\"subunitcolor\":\"white\"},\"hoverlabel\":{\"align\":\"left\"},\"hovermode\":\"closest\",\"mapbox\":{\"style\":\"light\"},\"paper_bgcolor\":\"white\",\"plot_bgcolor\":\"#E5ECF6\",\"polar\":{\"angularaxis\":{\"gridcolor\":\"white\",\"linecolor\":\"white\",\"ticks\":\"\"},\"bgcolor\":\"#E5ECF6\",\"radialaxis\":{\"gridcolor\":\"white\",\"linecolor\":\"white\",\"ticks\":\"\"}},\"scene\":{\"xaxis\":{\"backgroundcolor\":\"#E5ECF6\",\"gridcolor\":\"white\",\"gridwidth\":2,\"linecolor\":\"white\",\"showbackground\":true,\"ticks\":\"\",\"zerolinecolor\":\"white\"},\"yaxis\":{\"backgroundcolor\":\"#E5ECF6\",\"gridcolor\":\"white\",\"gridwidth\":2,\"linecolor\":\"white\",\"showbackground\":true,\"ticks\":\"\",\"zerolinecolor\":\"white\"},\"zaxis\":{\"backgroundcolor\":\"#E5ECF6\",\"gridcolor\":\"white\",\"gridwidth\":2,\"linecolor\":\"white\",\"showbackground\":true,\"ticks\":\"\",\"zerolinecolor\":\"white\"}},\"shapedefaults\":{\"line\":{\"color\":\"#2a3f5f\"}},\"ternary\":{\"aaxis\":{\"gridcolor\":\"white\",\"linecolor\":\"white\",\"ticks\":\"\"},\"baxis\":{\"gridcolor\":\"white\",\"linecolor\":\"white\",\"ticks\":\"\"},\"bgcolor\":\"#E5ECF6\",\"caxis\":{\"gridcolor\":\"white\",\"linecolor\":\"white\",\"ticks\":\"\"}},\"title\":{\"x\":0.05},\"xaxis\":{\"automargin\":true,\"gridcolor\":\"white\",\"linecolor\":\"white\",\"ticks\":\"\",\"title\":{\"standoff\":15},\"zerolinecolor\":\"white\",\"zerolinewidth\":2},\"yaxis\":{\"automargin\":true,\"gridcolor\":\"white\",\"linecolor\":\"white\",\"ticks\":\"\",\"title\":{\"standoff\":15},\"zerolinecolor\":\"white\",\"zerolinewidth\":2}}},\"xaxis\":{\"anchor\":\"y\",\"domain\":[0.0,1.0],\"title\":{\"text\":\"timestamp\"}},\"yaxis\":{\"anchor\":\"x\",\"domain\":[0.0,1.0],\"title\":{\"text\":\"value\"}},\"legend\":{\"title\":{\"text\":\"variable\"},\"tracegroupgap\":0},\"margin\":{\"t\":60}},                        {\"responsive\": true}                    ).then(function(){\n",
       "                            \n",
       "var gd = document.getElementById('b46c6e62-e578-48f5-9920-a53c31aee165');\n",
       "var x = new MutationObserver(function (mutations, observer) {{\n",
       "        var display = window.getComputedStyle(gd).display;\n",
       "        if (!display || display === 'none') {{\n",
       "            console.log([gd, 'removed!']);\n",
       "            Plotly.purge(gd);\n",
       "            observer.disconnect();\n",
       "        }}\n",
       "}});\n",
       "\n",
       "// Listen for the removal of the full notebook cells\n",
       "var notebookContainer = gd.closest('#notebook-container');\n",
       "if (notebookContainer) {{\n",
       "    x.observe(notebookContainer, {childList: true});\n",
       "}}\n",
       "\n",
       "// Listen for the clearing of the current output cell\n",
       "var outputEl = gd.closest('.output');\n",
       "if (outputEl) {{\n",
       "    x.observe(outputEl, {childList: true});\n",
       "}}\n",
       "\n",
       "                        })                };                });            </script>        </div>"
      ]
     },
     "metadata": {},
     "output_type": "display_data"
    }
   ],
   "source": [
    "px.line(results,labels ={\"values\":\"P2\"})"
   ]
  },
  {
   "cell_type": "code",
   "execution_count": null,
   "id": "7fd7723c",
   "metadata": {},
   "outputs": [],
   "source": []
  }
 ],
 "metadata": {
  "kernelspec": {
   "display_name": "Python 3 (ipykernel)",
   "language": "python",
   "name": "python3"
  },
  "language_info": {
   "codemirror_mode": {
    "name": "ipython",
    "version": 3
   },
   "file_extension": ".py",
   "mimetype": "text/x-python",
   "name": "python",
   "nbconvert_exporter": "python",
   "pygments_lexer": "ipython3",
   "version": "3.9.12"
  }
 },
 "nbformat": 4,
 "nbformat_minor": 5
}
